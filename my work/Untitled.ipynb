{
 "cells": [
  {
   "cell_type": "code",
   "execution_count": 1,
   "metadata": {},
   "outputs": [],
   "source": [
    "import pandas as pd\n",
    "import numpy as np\n",
    "import matplotlib.pyplot as plt"
   ]
  },
  {
   "cell_type": "code",
   "execution_count": 2,
   "metadata": {},
   "outputs": [],
   "source": [
    "data = pd.read_csv('Restaurant.csv')"
   ]
  },
  {
   "cell_type": "code",
   "execution_count": 3,
   "metadata": {},
   "outputs": [
    {
     "data": {
      "text/html": [
       "<div>\n",
       "<style scoped>\n",
       "    .dataframe tbody tr th:only-of-type {\n",
       "        vertical-align: middle;\n",
       "    }\n",
       "\n",
       "    .dataframe tbody tr th {\n",
       "        vertical-align: top;\n",
       "    }\n",
       "\n",
       "    .dataframe thead th {\n",
       "        text-align: right;\n",
       "    }\n",
       "</style>\n",
       "<table border=\"1\" class=\"dataframe\">\n",
       "  <thead>\n",
       "    <tr style=\"text-align: right;\">\n",
       "      <th></th>\n",
       "      <th>Restaurant Name</th>\n",
       "      <th>Area</th>\n",
       "      <th>Restaurant type</th>\n",
       "      <th>Ratings</th>\n",
       "      <th>Number of ratings</th>\n",
       "      <th>price</th>\n",
       "      <th>Address</th>\n",
       "    </tr>\n",
       "  </thead>\n",
       "  <tbody>\n",
       "    <tr>\n",
       "      <th>0</th>\n",
       "      <td>Seasonal Tastes</td>\n",
       "      <td>Gulshan</td>\n",
       "      <td>Pan Asian</td>\n",
       "      <td>4.6</td>\n",
       "      <td>205</td>\n",
       "      <td>3</td>\n",
       "      <td>The Westin, Main Gulshan Ave  In Dhaka Westin</td>\n",
       "    </tr>\n",
       "    <tr>\n",
       "      <th>1</th>\n",
       "      <td>Bistro-E</td>\n",
       "      <td>Gulshan</td>\n",
       "      <td>Restaurant</td>\n",
       "      <td>4.4</td>\n",
       "      <td>1109</td>\n",
       "      <td>3</td>\n",
       "      <td>Bay's Edgewater 1st Floor NE (N, 12 Gulshan No...</td>\n",
       "    </tr>\n",
       "    <tr>\n",
       "      <th>2</th>\n",
       "      <td>Bukhara Restaurant</td>\n",
       "      <td>Banani</td>\n",
       "      <td>Indian</td>\n",
       "      <td>4.2</td>\n",
       "      <td>664</td>\n",
       "      <td>1</td>\n",
       "      <td>17th Floor, Iqbal Center, 42 Kemal Ataturk Ave</td>\n",
       "    </tr>\n",
       "    <tr>\n",
       "      <th>3</th>\n",
       "      <td>Star Kebab &amp; Restaurant</td>\n",
       "      <td>Banani</td>\n",
       "      <td>Restaurant</td>\n",
       "      <td>4.2</td>\n",
       "      <td>15445</td>\n",
       "      <td>2</td>\n",
       "      <td>House-15 Rd no. 17, Block- C</td>\n",
       "    </tr>\n",
       "    <tr>\n",
       "      <th>4</th>\n",
       "      <td>Bunka</td>\n",
       "      <td>Gulshan</td>\n",
       "      <td>Japanese</td>\n",
       "      <td>4.2</td>\n",
       "      <td>270</td>\n",
       "      <td>3</td>\n",
       "      <td>13th Floor, Road 96, House 19, Gulshan 2</td>\n",
       "    </tr>\n",
       "  </tbody>\n",
       "</table>\n",
       "</div>"
      ],
      "text/plain": [
       "           Restaurant Name     Area Restaurant type  Ratings  \\\n",
       "0          Seasonal Tastes  Gulshan       Pan Asian      4.6   \n",
       "1                 Bistro-E  Gulshan      Restaurant      4.4   \n",
       "2       Bukhara Restaurant   Banani          Indian      4.2   \n",
       "3  Star Kebab & Restaurant   Banani      Restaurant      4.2   \n",
       "4                    Bunka  Gulshan        Japanese      4.2   \n",
       "\n",
       "   Number of ratings  price                                            Address  \n",
       "0                205      3      The Westin, Main Gulshan Ave  In Dhaka Westin  \n",
       "1               1109      3  Bay's Edgewater 1st Floor NE (N, 12 Gulshan No...  \n",
       "2                664      1     17th Floor, Iqbal Center, 42 Kemal Ataturk Ave  \n",
       "3              15445      2                       House-15 Rd no. 17, Block- C  \n",
       "4                270      3           13th Floor, Road 96, House 19, Gulshan 2  "
      ]
     },
     "execution_count": 3,
     "metadata": {},
     "output_type": "execute_result"
    }
   ],
   "source": [
    "data.head()"
   ]
  },
  {
   "cell_type": "code",
   "execution_count": 4,
   "metadata": {},
   "outputs": [
    {
     "name": "stdout",
     "output_type": "stream",
     "text": [
      "<class 'pandas.core.frame.DataFrame'>\n",
      "RangeIndex: 1681 entries, 0 to 1680\n",
      "Data columns (total 7 columns):\n",
      " #   Column             Non-Null Count  Dtype  \n",
      "---  ------             --------------  -----  \n",
      " 0   Restaurant Name    1681 non-null   object \n",
      " 1   Area               1681 non-null   object \n",
      " 2   Restaurant type    1681 non-null   object \n",
      " 3   Ratings            1681 non-null   float64\n",
      " 4   Number of ratings  1681 non-null   int64  \n",
      " 5   price              1681 non-null   int64  \n",
      " 6   Address            1681 non-null   object \n",
      "dtypes: float64(1), int64(2), object(4)\n",
      "memory usage: 92.1+ KB\n"
     ]
    }
   ],
   "source": [
    "data.info()"
   ]
  },
  {
   "cell_type": "code",
   "execution_count": 5,
   "metadata": {},
   "outputs": [],
   "source": [
    "AreaInfo = data.groupby('Area')['Area'].count()"
   ]
  },
  {
   "cell_type": "code",
   "execution_count": 6,
   "metadata": {
    "scrolled": true
   },
   "outputs": [
    {
     "data": {
      "text/plain": [
       "Area\n",
       "Agargaon           1\n",
       "Badda             10\n",
       "Baily Road         6\n",
       "Banani           161\n",
       "Banasree          77\n",
       "Banglamotor        2\n",
       "Baridhara         26\n",
       "Basahabo           1\n",
       "Bashundhara       89\n",
       "Bijoy sarani       2\n",
       "Dhanmondi        207\n",
       "Dhonia             2\n",
       "Elephant road      1\n",
       "Farmgate          28\n",
       "Gulshan          177\n",
       "Hatirjheel         2\n",
       "Hatirpool          1\n",
       "Kakrail            2\n",
       "Kalabagan          1\n",
       "Kamlapur           1\n",
       "Karwan Bazar       4\n",
       "Keraniganj         3\n",
       "Khilgaon          76\n",
       "Khilkhet           4\n",
       "Kuril              1\n",
       "Kurmitola          2\n",
       "Malibagh           1\n",
       "Mirpur           176\n",
       "Moghbajar          2\n",
       "Moghbazar          3\n",
       "Mohakhali         44\n",
       "Mohammadpur      113\n",
       "Motijheel          6\n",
       "Narayanganj        1\n",
       "Naya Paltan       14\n",
       "New Market         4\n",
       "Nikunja            3\n",
       "Nilkhat            1\n",
       "Old Dhaka        105\n",
       "Panthapath        38\n",
       "Ramna             26\n",
       "Rampura           10\n",
       "Rupnagar           1\n",
       "Savar              2\n",
       "Shahbagh           2\n",
       "Shanti Nagar      10\n",
       "Shyamoli          20\n",
       "Taltola            6\n",
       "Tejgaon           21\n",
       "Uttara           185\n",
       "Name: Area, dtype: int64"
      ]
     },
     "execution_count": 6,
     "metadata": {},
     "output_type": "execute_result"
    }
   ],
   "source": [
    "AreaInfo"
   ]
  },
  {
   "cell_type": "code",
   "execution_count": 7,
   "metadata": {},
   "outputs": [
    {
     "data": {
      "text/plain": [
       "pandas.core.series.Series"
      ]
     },
     "execution_count": 7,
     "metadata": {},
     "output_type": "execute_result"
    }
   ],
   "source": [
    "type(AreaInfo)"
   ]
  },
  {
   "cell_type": "code",
   "execution_count": 8,
   "metadata": {},
   "outputs": [
    {
     "name": "stdout",
     "output_type": "stream",
     "text": [
      "Index(['Agargaon', 'Badda', 'Baily Road', 'Banani', 'Banasree', 'Banglamotor',\n",
      "       'Baridhara', 'Basahabo', 'Bashundhara', 'Bijoy sarani', 'Dhanmondi',\n",
      "       'Dhonia', 'Elephant road', 'Farmgate', 'Gulshan', 'Hatirjheel',\n",
      "       'Hatirpool', 'Kakrail', 'Kalabagan', 'Kamlapur', 'Karwan Bazar',\n",
      "       'Keraniganj', 'Khilgaon', 'Khilkhet', 'Kuril', 'Kurmitola', 'Malibagh',\n",
      "       'Mirpur', 'Moghbajar', 'Moghbazar', 'Mohakhali', 'Mohammadpur',\n",
      "       'Motijheel', 'Narayanganj', 'Naya Paltan', 'New Market', 'Nikunja',\n",
      "       'Nilkhat', 'Old Dhaka', 'Panthapath', 'Ramna', 'Rampura', 'Rupnagar',\n",
      "       'Savar', 'Shahbagh', 'Shanti Nagar', 'Shyamoli', 'Taltola', 'Tejgaon',\n",
      "       'Uttara'],\n",
      "      dtype='object', name='Area')\n"
     ]
    }
   ],
   "source": [
    "print(AreaInfo.index)"
   ]
  },
  {
   "cell_type": "code",
   "execution_count": 9,
   "metadata": {},
   "outputs": [],
   "source": [
    "#deleteList = ['Agargaon','Banglamotor','Basahabo','Bijoy sarani','Dhonia','Elephant road','Hatirjheel','Hatirpool'\n",
    "           #  ,'Kakrail','Kalabagan','Kamlapur']\n",
    "    \n",
    "dictionary = AreaInfo.to_dict()"
   ]
  },
  {
   "cell_type": "code",
   "execution_count": 10,
   "metadata": {},
   "outputs": [
    {
     "data": {
      "text/plain": [
       "{'Agargaon': 1,\n",
       " 'Badda': 10,\n",
       " 'Baily Road': 6,\n",
       " 'Banani': 161,\n",
       " 'Banasree': 77,\n",
       " 'Banglamotor': 2,\n",
       " 'Baridhara': 26,\n",
       " 'Basahabo': 1,\n",
       " 'Bashundhara': 89,\n",
       " 'Bijoy sarani': 2,\n",
       " 'Dhanmondi': 207,\n",
       " 'Dhonia': 2,\n",
       " 'Elephant road': 1,\n",
       " 'Farmgate': 28,\n",
       " 'Gulshan': 177,\n",
       " 'Hatirjheel': 2,\n",
       " 'Hatirpool': 1,\n",
       " 'Kakrail': 2,\n",
       " 'Kalabagan': 1,\n",
       " 'Kamlapur': 1,\n",
       " 'Karwan Bazar': 4,\n",
       " 'Keraniganj': 3,\n",
       " 'Khilgaon': 76,\n",
       " 'Khilkhet': 4,\n",
       " 'Kuril': 1,\n",
       " 'Kurmitola': 2,\n",
       " 'Malibagh': 1,\n",
       " 'Mirpur': 176,\n",
       " 'Moghbajar': 2,\n",
       " 'Moghbazar': 3,\n",
       " 'Mohakhali': 44,\n",
       " 'Mohammadpur': 113,\n",
       " 'Motijheel': 6,\n",
       " 'Narayanganj': 1,\n",
       " 'Naya Paltan': 14,\n",
       " 'New Market': 4,\n",
       " 'Nikunja': 3,\n",
       " 'Nilkhat': 1,\n",
       " 'Old Dhaka': 105,\n",
       " 'Panthapath': 38,\n",
       " 'Ramna': 26,\n",
       " 'Rampura': 10,\n",
       " 'Rupnagar': 1,\n",
       " 'Savar': 2,\n",
       " 'Shahbagh': 2,\n",
       " 'Shanti Nagar': 10,\n",
       " 'Shyamoli': 20,\n",
       " 'Taltola': 6,\n",
       " 'Tejgaon': 21,\n",
       " 'Uttara': 185}"
      ]
     },
     "execution_count": 10,
     "metadata": {},
     "output_type": "execute_result"
    }
   ],
   "source": [
    "dictionary"
   ]
  },
  {
   "cell_type": "code",
   "execution_count": 11,
   "metadata": {},
   "outputs": [],
   "source": [
    "deleteList = []\n",
    "for key, value in dictionary.items():\n",
    "    if(value<5):\n",
    "       deleteList.append(key)"
   ]
  },
  {
   "cell_type": "code",
   "execution_count": 12,
   "metadata": {},
   "outputs": [
    {
     "data": {
      "text/plain": [
       "['Agargaon',\n",
       " 'Banglamotor',\n",
       " 'Basahabo',\n",
       " 'Bijoy sarani',\n",
       " 'Dhonia',\n",
       " 'Elephant road',\n",
       " 'Hatirjheel',\n",
       " 'Hatirpool',\n",
       " 'Kakrail',\n",
       " 'Kalabagan',\n",
       " 'Kamlapur',\n",
       " 'Karwan Bazar',\n",
       " 'Keraniganj',\n",
       " 'Khilkhet',\n",
       " 'Kuril',\n",
       " 'Kurmitola',\n",
       " 'Malibagh',\n",
       " 'Moghbajar',\n",
       " 'Moghbazar',\n",
       " 'Narayanganj',\n",
       " 'New Market',\n",
       " 'Nikunja',\n",
       " 'Nilkhat',\n",
       " 'Rupnagar',\n",
       " 'Savar',\n",
       " 'Shahbagh']"
      ]
     },
     "execution_count": 12,
     "metadata": {},
     "output_type": "execute_result"
    }
   ],
   "source": [
    "deleteList"
   ]
  },
  {
   "cell_type": "code",
   "execution_count": 13,
   "metadata": {},
   "outputs": [
    {
     "data": {
      "text/plain": [
       "(1681, 7)"
      ]
     },
     "execution_count": 13,
     "metadata": {},
     "output_type": "execute_result"
    }
   ],
   "source": [
    "data.shape"
   ]
  },
  {
   "cell_type": "code",
   "execution_count": 14,
   "metadata": {},
   "outputs": [],
   "source": [
    "data = data.dropna(how=\"all\")"
   ]
  },
  {
   "cell_type": "code",
   "execution_count": 15,
   "metadata": {},
   "outputs": [
    {
     "data": {
      "text/plain": [
       "(1681, 7)"
      ]
     },
     "execution_count": 15,
     "metadata": {},
     "output_type": "execute_result"
    }
   ],
   "source": [
    "data.shape"
   ]
  },
  {
   "cell_type": "code",
   "execution_count": 16,
   "metadata": {},
   "outputs": [],
   "source": [
    "for area in deleteList:\n",
    "    data = data.drop(data[data['Area']==area].index)\n",
    "    "
   ]
  },
  {
   "cell_type": "code",
   "execution_count": 17,
   "metadata": {},
   "outputs": [
    {
     "data": {
      "text/plain": [
       "(1631, 7)"
      ]
     },
     "execution_count": 17,
     "metadata": {},
     "output_type": "execute_result"
    }
   ],
   "source": [
    "data.shape"
   ]
  },
  {
   "cell_type": "code",
   "execution_count": 18,
   "metadata": {},
   "outputs": [],
   "source": [
    "data = data.reset_index()"
   ]
  },
  {
   "cell_type": "code",
   "execution_count": 19,
   "metadata": {},
   "outputs": [
    {
     "data": {
      "text/plain": [
       "(1631, 8)"
      ]
     },
     "execution_count": 19,
     "metadata": {},
     "output_type": "execute_result"
    }
   ],
   "source": [
    "data.shape"
   ]
  },
  {
   "cell_type": "code",
   "execution_count": 20,
   "metadata": {},
   "outputs": [],
   "source": [
    "AreaInfo = data.groupby('Area')['Area'].count()"
   ]
  },
  {
   "cell_type": "code",
   "execution_count": 21,
   "metadata": {},
   "outputs": [],
   "source": [
    "dictionary = AreaInfo.to_dict()"
   ]
  },
  {
   "cell_type": "code",
   "execution_count": 22,
   "metadata": {},
   "outputs": [
    {
     "data": {
      "text/plain": [
       "{'Badda': 10,\n",
       " 'Baily Road': 6,\n",
       " 'Banani': 161,\n",
       " 'Banasree': 77,\n",
       " 'Baridhara': 26,\n",
       " 'Bashundhara': 89,\n",
       " 'Dhanmondi': 207,\n",
       " 'Farmgate': 28,\n",
       " 'Gulshan': 177,\n",
       " 'Khilgaon': 76,\n",
       " 'Mirpur': 176,\n",
       " 'Mohakhali': 44,\n",
       " 'Mohammadpur': 113,\n",
       " 'Motijheel': 6,\n",
       " 'Naya Paltan': 14,\n",
       " 'Old Dhaka': 105,\n",
       " 'Panthapath': 38,\n",
       " 'Ramna': 26,\n",
       " 'Rampura': 10,\n",
       " 'Shanti Nagar': 10,\n",
       " 'Shyamoli': 20,\n",
       " 'Taltola': 6,\n",
       " 'Tejgaon': 21,\n",
       " 'Uttara': 185}"
      ]
     },
     "execution_count": 22,
     "metadata": {},
     "output_type": "execute_result"
    }
   ],
   "source": [
    "dictionary"
   ]
  },
  {
   "cell_type": "code",
   "execution_count": 23,
   "metadata": {},
   "outputs": [],
   "source": [
    "Cousine_type = data.groupby('Restaurant type')['Restaurant type'].count()"
   ]
  },
  {
   "cell_type": "code",
   "execution_count": 24,
   "metadata": {},
   "outputs": [
    {
     "data": {
      "text/plain": [
       "Restaurant type\n",
       "American                    6\n",
       "Asian                      10\n",
       "Asian Fusion                1\n",
       "AsianFusion                 2\n",
       "Bakery                     12\n",
       "Bangladeshi               115\n",
       "Banquethall                 1\n",
       "Bar                         4\n",
       "Barbecue                    4\n",
       "Biryani                    19\n",
       "Bistro                      1\n",
       "Breakfast                   2\n",
       "Buffet                     15\n",
       "Cafe                       34\n",
       "Cantonese                   4\n",
       "Caterer                     1\n",
       "Chicken                     8\n",
       "Chicken Wings               1\n",
       "ChickenWings                1\n",
       "Chinese                    55\n",
       "Chocolate shop              1\n",
       "Continental restaurant      8\n",
       "Countryfoodrestaurant       2\n",
       "Deliveryservice             1\n",
       "Dessert shop                1\n",
       "Family-friendly             7\n",
       "Fast Food                 169\n",
       "FineDining                  2\n",
       "Food court                  9\n",
       "Grill                       1\n",
       "Hamburger                   3\n",
       "Hotel                      21\n",
       "Ice Cream                   2\n",
       "Indian                     26\n",
       "Indian sweets shop          1\n",
       "Italian                     6\n",
       "Japanese                   14\n",
       "Kebab shop                  5\n",
       "Korean                      6\n",
       "Lebanese                    3\n",
       "Malaysian                   2\n",
       "Mexican                     6\n",
       "Middle Eastern              2\n",
       "Mongolian BBQ               1\n",
       "Nepalese                    1\n",
       "Pan Asian                   1\n",
       "Pizza                      40\n",
       "Portuguese                  1\n",
       "Restaurant                954\n",
       "Sea-food                    9\n",
       "SouthIndian                 1\n",
       "Steak                       3\n",
       "Sushi                       2\n",
       "Tacos                       1\n",
       "Tea house                   1\n",
       "Thai                       14\n",
       "Turkish                     4\n",
       "Vegetarian                  2\n",
       "Western                     2\n",
       "Name: Restaurant type, dtype: int64"
      ]
     },
     "execution_count": 24,
     "metadata": {},
     "output_type": "execute_result"
    }
   ],
   "source": [
    "Cousine_type"
   ]
  },
  {
   "cell_type": "code",
   "execution_count": 25,
   "metadata": {},
   "outputs": [
    {
     "data": {
      "text/html": [
       "<div>\n",
       "<style scoped>\n",
       "    .dataframe tbody tr th:only-of-type {\n",
       "        vertical-align: middle;\n",
       "    }\n",
       "\n",
       "    .dataframe tbody tr th {\n",
       "        vertical-align: top;\n",
       "    }\n",
       "\n",
       "    .dataframe thead th {\n",
       "        text-align: right;\n",
       "    }\n",
       "</style>\n",
       "<table border=\"1\" class=\"dataframe\">\n",
       "  <thead>\n",
       "    <tr style=\"text-align: right;\">\n",
       "      <th></th>\n",
       "      <th>index</th>\n",
       "      <th>Restaurant Name</th>\n",
       "      <th>Area</th>\n",
       "      <th>Restaurant type</th>\n",
       "      <th>Ratings</th>\n",
       "      <th>Number of ratings</th>\n",
       "      <th>price</th>\n",
       "      <th>Address</th>\n",
       "    </tr>\n",
       "  </thead>\n",
       "  <tbody>\n",
       "    <tr>\n",
       "      <th>0</th>\n",
       "      <td>0</td>\n",
       "      <td>Seasonal Tastes</td>\n",
       "      <td>Gulshan</td>\n",
       "      <td>Pan Asian</td>\n",
       "      <td>4.6</td>\n",
       "      <td>205</td>\n",
       "      <td>3</td>\n",
       "      <td>The Westin, Main Gulshan Ave  In Dhaka Westin</td>\n",
       "    </tr>\n",
       "    <tr>\n",
       "      <th>1</th>\n",
       "      <td>1</td>\n",
       "      <td>Bistro-E</td>\n",
       "      <td>Gulshan</td>\n",
       "      <td>Restaurant</td>\n",
       "      <td>4.4</td>\n",
       "      <td>1109</td>\n",
       "      <td>3</td>\n",
       "      <td>Bay's Edgewater 1st Floor NE (N, 12 Gulshan No...</td>\n",
       "    </tr>\n",
       "    <tr>\n",
       "      <th>2</th>\n",
       "      <td>2</td>\n",
       "      <td>Bukhara Restaurant</td>\n",
       "      <td>Banani</td>\n",
       "      <td>Indian</td>\n",
       "      <td>4.2</td>\n",
       "      <td>664</td>\n",
       "      <td>1</td>\n",
       "      <td>17th Floor, Iqbal Center, 42 Kemal Ataturk Ave</td>\n",
       "    </tr>\n",
       "    <tr>\n",
       "      <th>3</th>\n",
       "      <td>3</td>\n",
       "      <td>Star Kebab &amp; Restaurant</td>\n",
       "      <td>Banani</td>\n",
       "      <td>Restaurant</td>\n",
       "      <td>4.2</td>\n",
       "      <td>15445</td>\n",
       "      <td>2</td>\n",
       "      <td>House-15 Rd no. 17, Block- C</td>\n",
       "    </tr>\n",
       "    <tr>\n",
       "      <th>4</th>\n",
       "      <td>4</td>\n",
       "      <td>Bunka</td>\n",
       "      <td>Gulshan</td>\n",
       "      <td>Japanese</td>\n",
       "      <td>4.2</td>\n",
       "      <td>270</td>\n",
       "      <td>3</td>\n",
       "      <td>13th Floor, Road 96, House 19, Gulshan 2</td>\n",
       "    </tr>\n",
       "  </tbody>\n",
       "</table>\n",
       "</div>"
      ],
      "text/plain": [
       "   index          Restaurant Name     Area Restaurant type  Ratings  \\\n",
       "0      0          Seasonal Tastes  Gulshan       Pan Asian      4.6   \n",
       "1      1                 Bistro-E  Gulshan      Restaurant      4.4   \n",
       "2      2       Bukhara Restaurant   Banani          Indian      4.2   \n",
       "3      3  Star Kebab & Restaurant   Banani      Restaurant      4.2   \n",
       "4      4                    Bunka  Gulshan        Japanese      4.2   \n",
       "\n",
       "   Number of ratings  price                                            Address  \n",
       "0                205      3      The Westin, Main Gulshan Ave  In Dhaka Westin  \n",
       "1               1109      3  Bay's Edgewater 1st Floor NE (N, 12 Gulshan No...  \n",
       "2                664      1     17th Floor, Iqbal Center, 42 Kemal Ataturk Ave  \n",
       "3              15445      2                       House-15 Rd no. 17, Block- C  \n",
       "4                270      3           13th Floor, Road 96, House 19, Gulshan 2  "
      ]
     },
     "execution_count": 25,
     "metadata": {},
     "output_type": "execute_result"
    }
   ],
   "source": [
    "data.head()"
   ]
  },
  {
   "cell_type": "code",
   "execution_count": 26,
   "metadata": {},
   "outputs": [],
   "source": [
    "data = data.sort_values(by=['Area']).reset_index()"
   ]
  },
  {
   "cell_type": "code",
   "execution_count": 27,
   "metadata": {},
   "outputs": [
    {
     "data": {
      "text/html": [
       "<div>\n",
       "<style scoped>\n",
       "    .dataframe tbody tr th:only-of-type {\n",
       "        vertical-align: middle;\n",
       "    }\n",
       "\n",
       "    .dataframe tbody tr th {\n",
       "        vertical-align: top;\n",
       "    }\n",
       "\n",
       "    .dataframe thead th {\n",
       "        text-align: right;\n",
       "    }\n",
       "</style>\n",
       "<table border=\"1\" class=\"dataframe\">\n",
       "  <thead>\n",
       "    <tr style=\"text-align: right;\">\n",
       "      <th></th>\n",
       "      <th>level_0</th>\n",
       "      <th>index</th>\n",
       "      <th>Restaurant Name</th>\n",
       "      <th>Area</th>\n",
       "      <th>Restaurant type</th>\n",
       "      <th>Ratings</th>\n",
       "      <th>Number of ratings</th>\n",
       "      <th>price</th>\n",
       "      <th>Address</th>\n",
       "    </tr>\n",
       "  </thead>\n",
       "  <tbody>\n",
       "    <tr>\n",
       "      <th>0</th>\n",
       "      <td>153</td>\n",
       "      <td>153</td>\n",
       "      <td>Cricket Ground Cafe</td>\n",
       "      <td>Badda</td>\n",
       "      <td>Restaurant</td>\n",
       "      <td>4.1</td>\n",
       "      <td>169</td>\n",
       "      <td>1</td>\n",
       "      <td>171/3 Middle Badda, হাতির ঝিল লিঙ্ক রোড</td>\n",
       "    </tr>\n",
       "    <tr>\n",
       "      <th>1</th>\n",
       "      <td>188</td>\n",
       "      <td>189</td>\n",
       "      <td>Rosemery Restaurant</td>\n",
       "      <td>Badda</td>\n",
       "      <td>Bangladeshi</td>\n",
       "      <td>3.9</td>\n",
       "      <td>369</td>\n",
       "      <td>1</td>\n",
       "      <td>Madani Ave</td>\n",
       "    </tr>\n",
       "    <tr>\n",
       "      <th>2</th>\n",
       "      <td>1251</td>\n",
       "      <td>1291</td>\n",
       "      <td>Maaer Dowa Hotel &amp; Restaurant</td>\n",
       "      <td>Badda</td>\n",
       "      <td>Restaurant</td>\n",
       "      <td>4.4</td>\n",
       "      <td>8</td>\n",
       "      <td>1</td>\n",
       "      <td>East Badda, Borotek More, Badda</td>\n",
       "    </tr>\n",
       "    <tr>\n",
       "      <th>3</th>\n",
       "      <td>436</td>\n",
       "      <td>447</td>\n",
       "      <td>K &amp; K Burger and coffee ( Burger wala)</td>\n",
       "      <td>Badda</td>\n",
       "      <td>Restaurant</td>\n",
       "      <td>4.8</td>\n",
       "      <td>32</td>\n",
       "      <td>1</td>\n",
       "      <td>40 S Badda Rd</td>\n",
       "    </tr>\n",
       "    <tr>\n",
       "      <th>4</th>\n",
       "      <td>1247</td>\n",
       "      <td>1287</td>\n",
       "      <td>Sanxi Thai Chinese</td>\n",
       "      <td>Badda</td>\n",
       "      <td>Chinese</td>\n",
       "      <td>3.9</td>\n",
       "      <td>1102</td>\n",
       "      <td>2</td>\n",
       "      <td>House#1/B, Road#13, South</td>\n",
       "    </tr>\n",
       "    <tr>\n",
       "      <th>...</th>\n",
       "      <td>...</td>\n",
       "      <td>...</td>\n",
       "      <td>...</td>\n",
       "      <td>...</td>\n",
       "      <td>...</td>\n",
       "      <td>...</td>\n",
       "      <td>...</td>\n",
       "      <td>...</td>\n",
       "      <td>...</td>\n",
       "    </tr>\n",
       "    <tr>\n",
       "      <th>1626</th>\n",
       "      <td>1127</td>\n",
       "      <td>1167</td>\n",
       "      <td>Old Town Restaurant</td>\n",
       "      <td>Uttara</td>\n",
       "      <td>Restaurant</td>\n",
       "      <td>4.0</td>\n",
       "      <td>4</td>\n",
       "      <td>1</td>\n",
       "      <td>House 03 Rd No 14</td>\n",
       "    </tr>\n",
       "    <tr>\n",
       "      <th>1627</th>\n",
       "      <td>1128</td>\n",
       "      <td>1168</td>\n",
       "      <td>Golden Spoon 3 (Sector-13)</td>\n",
       "      <td>Uttara</td>\n",
       "      <td>Restaurant</td>\n",
       "      <td>4.1</td>\n",
       "      <td>22</td>\n",
       "      <td>1</td>\n",
       "      <td>Plot-60 Gareeb-e-Nawaz Ave</td>\n",
       "    </tr>\n",
       "    <tr>\n",
       "      <th>1628</th>\n",
       "      <td>1129</td>\n",
       "      <td>1169</td>\n",
       "      <td>Dhaka Spicy</td>\n",
       "      <td>Uttara</td>\n",
       "      <td>Restaurant</td>\n",
       "      <td>3.0</td>\n",
       "      <td>1</td>\n",
       "      <td>1</td>\n",
       "      <td>23 Rd No 2</td>\n",
       "    </tr>\n",
       "    <tr>\n",
       "      <th>1629</th>\n",
       "      <td>1121</td>\n",
       "      <td>1161</td>\n",
       "      <td>Pizza Hut</td>\n",
       "      <td>Uttara</td>\n",
       "      <td>Pizza</td>\n",
       "      <td>4.2</td>\n",
       "      <td>73</td>\n",
       "      <td>2</td>\n",
       "      <td>House 06, Road 2, Ahmed Plaza (Gr. Flr</td>\n",
       "    </tr>\n",
       "    <tr>\n",
       "      <th>1630</th>\n",
       "      <td>1116</td>\n",
       "      <td>1156</td>\n",
       "      <td>Uttara Kitchen</td>\n",
       "      <td>Uttara</td>\n",
       "      <td>Fast Food</td>\n",
       "      <td>5.0</td>\n",
       "      <td>1</td>\n",
       "      <td>1</td>\n",
       "      <td>House- 2, Road No 12, Sector- 6, Uttara</td>\n",
       "    </tr>\n",
       "  </tbody>\n",
       "</table>\n",
       "<p>1631 rows × 9 columns</p>\n",
       "</div>"
      ],
      "text/plain": [
       "      level_0  index                         Restaurant Name    Area  \\\n",
       "0         153    153                     Cricket Ground Cafe   Badda   \n",
       "1         188    189                     Rosemery Restaurant   Badda   \n",
       "2        1251   1291           Maaer Dowa Hotel & Restaurant   Badda   \n",
       "3         436    447  K & K Burger and coffee ( Burger wala)   Badda   \n",
       "4        1247   1287                      Sanxi Thai Chinese   Badda   \n",
       "...       ...    ...                                     ...     ...   \n",
       "1626     1127   1167                     Old Town Restaurant  Uttara   \n",
       "1627     1128   1168              Golden Spoon 3 (Sector-13)  Uttara   \n",
       "1628     1129   1169                             Dhaka Spicy  Uttara   \n",
       "1629     1121   1161                               Pizza Hut  Uttara   \n",
       "1630     1116   1156                          Uttara Kitchen  Uttara   \n",
       "\n",
       "     Restaurant type  Ratings  Number of ratings  price  \\\n",
       "0         Restaurant      4.1                169      1   \n",
       "1        Bangladeshi      3.9                369      1   \n",
       "2         Restaurant      4.4                  8      1   \n",
       "3         Restaurant      4.8                 32      1   \n",
       "4            Chinese      3.9               1102      2   \n",
       "...              ...      ...                ...    ...   \n",
       "1626      Restaurant      4.0                  4      1   \n",
       "1627      Restaurant      4.1                 22      1   \n",
       "1628      Restaurant      3.0                  1      1   \n",
       "1629           Pizza      4.2                 73      2   \n",
       "1630       Fast Food      5.0                  1      1   \n",
       "\n",
       "                                      Address  \n",
       "0     171/3 Middle Badda, হাতির ঝিল লিঙ্ক রোড  \n",
       "1                                  Madani Ave  \n",
       "2             East Badda, Borotek More, Badda  \n",
       "3                               40 S Badda Rd  \n",
       "4                   House#1/B, Road#13, South  \n",
       "...                                       ...  \n",
       "1626                        House 03 Rd No 14  \n",
       "1627               Plot-60 Gareeb-e-Nawaz Ave  \n",
       "1628                               23 Rd No 2  \n",
       "1629   House 06, Road 2, Ahmed Plaza (Gr. Flr  \n",
       "1630  House- 2, Road No 12, Sector- 6, Uttara  \n",
       "\n",
       "[1631 rows x 9 columns]"
      ]
     },
     "execution_count": 27,
     "metadata": {},
     "output_type": "execute_result"
    }
   ],
   "source": [
    "data"
   ]
  },
  {
   "cell_type": "code",
   "execution_count": 28,
   "metadata": {},
   "outputs": [
    {
     "data": {
      "text/html": [
       "<div>\n",
       "<style scoped>\n",
       "    .dataframe tbody tr th:only-of-type {\n",
       "        vertical-align: middle;\n",
       "    }\n",
       "\n",
       "    .dataframe tbody tr th {\n",
       "        vertical-align: top;\n",
       "    }\n",
       "\n",
       "    .dataframe thead th {\n",
       "        text-align: right;\n",
       "    }\n",
       "</style>\n",
       "<table border=\"1\" class=\"dataframe\">\n",
       "  <thead>\n",
       "    <tr style=\"text-align: right;\">\n",
       "      <th></th>\n",
       "      <th>level_0</th>\n",
       "      <th>index</th>\n",
       "      <th>Restaurant Name</th>\n",
       "      <th>Area</th>\n",
       "      <th>Restaurant type</th>\n",
       "      <th>Ratings</th>\n",
       "      <th>Number of ratings</th>\n",
       "      <th>price</th>\n",
       "      <th>Address</th>\n",
       "    </tr>\n",
       "  </thead>\n",
       "  <tbody>\n",
       "    <tr>\n",
       "      <th>0</th>\n",
       "      <td>153</td>\n",
       "      <td>153</td>\n",
       "      <td>Cricket Ground Cafe</td>\n",
       "      <td>Badda</td>\n",
       "      <td>Restaurant</td>\n",
       "      <td>4.1</td>\n",
       "      <td>169</td>\n",
       "      <td>1</td>\n",
       "      <td>171/3 Middle Badda, হাতির ঝিল লিঙ্ক রোড</td>\n",
       "    </tr>\n",
       "    <tr>\n",
       "      <th>1</th>\n",
       "      <td>188</td>\n",
       "      <td>189</td>\n",
       "      <td>Rosemery Restaurant</td>\n",
       "      <td>Badda</td>\n",
       "      <td>Bangladeshi</td>\n",
       "      <td>3.9</td>\n",
       "      <td>369</td>\n",
       "      <td>1</td>\n",
       "      <td>Madani Ave</td>\n",
       "    </tr>\n",
       "    <tr>\n",
       "      <th>2</th>\n",
       "      <td>1251</td>\n",
       "      <td>1291</td>\n",
       "      <td>Maaer Dowa Hotel &amp; Restaurant</td>\n",
       "      <td>Badda</td>\n",
       "      <td>Restaurant</td>\n",
       "      <td>4.4</td>\n",
       "      <td>8</td>\n",
       "      <td>1</td>\n",
       "      <td>East Badda, Borotek More, Badda</td>\n",
       "    </tr>\n",
       "    <tr>\n",
       "      <th>3</th>\n",
       "      <td>436</td>\n",
       "      <td>447</td>\n",
       "      <td>K &amp; K Burger and coffee ( Burger wala)</td>\n",
       "      <td>Badda</td>\n",
       "      <td>Restaurant</td>\n",
       "      <td>4.8</td>\n",
       "      <td>32</td>\n",
       "      <td>1</td>\n",
       "      <td>40 S Badda Rd</td>\n",
       "    </tr>\n",
       "    <tr>\n",
       "      <th>4</th>\n",
       "      <td>1247</td>\n",
       "      <td>1287</td>\n",
       "      <td>Sanxi Thai Chinese</td>\n",
       "      <td>Badda</td>\n",
       "      <td>Chinese</td>\n",
       "      <td>3.9</td>\n",
       "      <td>1102</td>\n",
       "      <td>2</td>\n",
       "      <td>House#1/B, Road#13, South</td>\n",
       "    </tr>\n",
       "    <tr>\n",
       "      <th>...</th>\n",
       "      <td>...</td>\n",
       "      <td>...</td>\n",
       "      <td>...</td>\n",
       "      <td>...</td>\n",
       "      <td>...</td>\n",
       "      <td>...</td>\n",
       "      <td>...</td>\n",
       "      <td>...</td>\n",
       "      <td>...</td>\n",
       "    </tr>\n",
       "    <tr>\n",
       "      <th>1626</th>\n",
       "      <td>1127</td>\n",
       "      <td>1167</td>\n",
       "      <td>Old Town Restaurant</td>\n",
       "      <td>Uttara</td>\n",
       "      <td>Restaurant</td>\n",
       "      <td>4.0</td>\n",
       "      <td>4</td>\n",
       "      <td>1</td>\n",
       "      <td>House 03 Rd No 14</td>\n",
       "    </tr>\n",
       "    <tr>\n",
       "      <th>1627</th>\n",
       "      <td>1128</td>\n",
       "      <td>1168</td>\n",
       "      <td>Golden Spoon 3 (Sector-13)</td>\n",
       "      <td>Uttara</td>\n",
       "      <td>Restaurant</td>\n",
       "      <td>4.1</td>\n",
       "      <td>22</td>\n",
       "      <td>1</td>\n",
       "      <td>Plot-60 Gareeb-e-Nawaz Ave</td>\n",
       "    </tr>\n",
       "    <tr>\n",
       "      <th>1628</th>\n",
       "      <td>1129</td>\n",
       "      <td>1169</td>\n",
       "      <td>Dhaka Spicy</td>\n",
       "      <td>Uttara</td>\n",
       "      <td>Restaurant</td>\n",
       "      <td>3.0</td>\n",
       "      <td>1</td>\n",
       "      <td>1</td>\n",
       "      <td>23 Rd No 2</td>\n",
       "    </tr>\n",
       "    <tr>\n",
       "      <th>1629</th>\n",
       "      <td>1121</td>\n",
       "      <td>1161</td>\n",
       "      <td>Pizza Hut</td>\n",
       "      <td>Uttara</td>\n",
       "      <td>Pizza</td>\n",
       "      <td>4.2</td>\n",
       "      <td>73</td>\n",
       "      <td>2</td>\n",
       "      <td>House 06, Road 2, Ahmed Plaza (Gr. Flr</td>\n",
       "    </tr>\n",
       "    <tr>\n",
       "      <th>1630</th>\n",
       "      <td>1116</td>\n",
       "      <td>1156</td>\n",
       "      <td>Uttara Kitchen</td>\n",
       "      <td>Uttara</td>\n",
       "      <td>Fast Food</td>\n",
       "      <td>5.0</td>\n",
       "      <td>1</td>\n",
       "      <td>1</td>\n",
       "      <td>House- 2, Road No 12, Sector- 6, Uttara</td>\n",
       "    </tr>\n",
       "  </tbody>\n",
       "</table>\n",
       "<p>1631 rows × 9 columns</p>\n",
       "</div>"
      ],
      "text/plain": [
       "      level_0  index                         Restaurant Name    Area  \\\n",
       "0         153    153                     Cricket Ground Cafe   Badda   \n",
       "1         188    189                     Rosemery Restaurant   Badda   \n",
       "2        1251   1291           Maaer Dowa Hotel & Restaurant   Badda   \n",
       "3         436    447  K & K Burger and coffee ( Burger wala)   Badda   \n",
       "4        1247   1287                      Sanxi Thai Chinese   Badda   \n",
       "...       ...    ...                                     ...     ...   \n",
       "1626     1127   1167                     Old Town Restaurant  Uttara   \n",
       "1627     1128   1168              Golden Spoon 3 (Sector-13)  Uttara   \n",
       "1628     1129   1169                             Dhaka Spicy  Uttara   \n",
       "1629     1121   1161                               Pizza Hut  Uttara   \n",
       "1630     1116   1156                          Uttara Kitchen  Uttara   \n",
       "\n",
       "     Restaurant type  Ratings  Number of ratings  price  \\\n",
       "0         Restaurant      4.1                169      1   \n",
       "1        Bangladeshi      3.9                369      1   \n",
       "2         Restaurant      4.4                  8      1   \n",
       "3         Restaurant      4.8                 32      1   \n",
       "4            Chinese      3.9               1102      2   \n",
       "...              ...      ...                ...    ...   \n",
       "1626      Restaurant      4.0                  4      1   \n",
       "1627      Restaurant      4.1                 22      1   \n",
       "1628      Restaurant      3.0                  1      1   \n",
       "1629           Pizza      4.2                 73      2   \n",
       "1630       Fast Food      5.0                  1      1   \n",
       "\n",
       "                                      Address  \n",
       "0     171/3 Middle Badda, হাতির ঝিল লিঙ্ক রোড  \n",
       "1                                  Madani Ave  \n",
       "2             East Badda, Borotek More, Badda  \n",
       "3                               40 S Badda Rd  \n",
       "4                   House#1/B, Road#13, South  \n",
       "...                                       ...  \n",
       "1626                        House 03 Rd No 14  \n",
       "1627               Plot-60 Gareeb-e-Nawaz Ave  \n",
       "1628                               23 Rd No 2  \n",
       "1629   House 06, Road 2, Ahmed Plaza (Gr. Flr  \n",
       "1630  House- 2, Road No 12, Sector- 6, Uttara  \n",
       "\n",
       "[1631 rows x 9 columns]"
      ]
     },
     "execution_count": 28,
     "metadata": {},
     "output_type": "execute_result"
    }
   ],
   "source": [
    "data"
   ]
  },
  {
   "cell_type": "code",
   "execution_count": 29,
   "metadata": {},
   "outputs": [],
   "source": [
    "data = data.drop(['level_0','index'], axis=1)"
   ]
  },
  {
   "cell_type": "code",
   "execution_count": 30,
   "metadata": {},
   "outputs": [
    {
     "data": {
      "text/html": [
       "<div>\n",
       "<style scoped>\n",
       "    .dataframe tbody tr th:only-of-type {\n",
       "        vertical-align: middle;\n",
       "    }\n",
       "\n",
       "    .dataframe tbody tr th {\n",
       "        vertical-align: top;\n",
       "    }\n",
       "\n",
       "    .dataframe thead th {\n",
       "        text-align: right;\n",
       "    }\n",
       "</style>\n",
       "<table border=\"1\" class=\"dataframe\">\n",
       "  <thead>\n",
       "    <tr style=\"text-align: right;\">\n",
       "      <th></th>\n",
       "      <th>Restaurant Name</th>\n",
       "      <th>Area</th>\n",
       "      <th>Restaurant type</th>\n",
       "      <th>Ratings</th>\n",
       "      <th>Number of ratings</th>\n",
       "      <th>price</th>\n",
       "      <th>Address</th>\n",
       "    </tr>\n",
       "  </thead>\n",
       "  <tbody>\n",
       "    <tr>\n",
       "      <th>0</th>\n",
       "      <td>Cricket Ground Cafe</td>\n",
       "      <td>Badda</td>\n",
       "      <td>Restaurant</td>\n",
       "      <td>4.1</td>\n",
       "      <td>169</td>\n",
       "      <td>1</td>\n",
       "      <td>171/3 Middle Badda, হাতির ঝিল লিঙ্ক রোড</td>\n",
       "    </tr>\n",
       "    <tr>\n",
       "      <th>1</th>\n",
       "      <td>Rosemery Restaurant</td>\n",
       "      <td>Badda</td>\n",
       "      <td>Bangladeshi</td>\n",
       "      <td>3.9</td>\n",
       "      <td>369</td>\n",
       "      <td>1</td>\n",
       "      <td>Madani Ave</td>\n",
       "    </tr>\n",
       "    <tr>\n",
       "      <th>2</th>\n",
       "      <td>Maaer Dowa Hotel &amp; Restaurant</td>\n",
       "      <td>Badda</td>\n",
       "      <td>Restaurant</td>\n",
       "      <td>4.4</td>\n",
       "      <td>8</td>\n",
       "      <td>1</td>\n",
       "      <td>East Badda, Borotek More, Badda</td>\n",
       "    </tr>\n",
       "    <tr>\n",
       "      <th>3</th>\n",
       "      <td>K &amp; K Burger and coffee ( Burger wala)</td>\n",
       "      <td>Badda</td>\n",
       "      <td>Restaurant</td>\n",
       "      <td>4.8</td>\n",
       "      <td>32</td>\n",
       "      <td>1</td>\n",
       "      <td>40 S Badda Rd</td>\n",
       "    </tr>\n",
       "    <tr>\n",
       "      <th>4</th>\n",
       "      <td>Sanxi Thai Chinese</td>\n",
       "      <td>Badda</td>\n",
       "      <td>Chinese</td>\n",
       "      <td>3.9</td>\n",
       "      <td>1102</td>\n",
       "      <td>2</td>\n",
       "      <td>House#1/B, Road#13, South</td>\n",
       "    </tr>\n",
       "    <tr>\n",
       "      <th>...</th>\n",
       "      <td>...</td>\n",
       "      <td>...</td>\n",
       "      <td>...</td>\n",
       "      <td>...</td>\n",
       "      <td>...</td>\n",
       "      <td>...</td>\n",
       "      <td>...</td>\n",
       "    </tr>\n",
       "    <tr>\n",
       "      <th>1626</th>\n",
       "      <td>Old Town Restaurant</td>\n",
       "      <td>Uttara</td>\n",
       "      <td>Restaurant</td>\n",
       "      <td>4.0</td>\n",
       "      <td>4</td>\n",
       "      <td>1</td>\n",
       "      <td>House 03 Rd No 14</td>\n",
       "    </tr>\n",
       "    <tr>\n",
       "      <th>1627</th>\n",
       "      <td>Golden Spoon 3 (Sector-13)</td>\n",
       "      <td>Uttara</td>\n",
       "      <td>Restaurant</td>\n",
       "      <td>4.1</td>\n",
       "      <td>22</td>\n",
       "      <td>1</td>\n",
       "      <td>Plot-60 Gareeb-e-Nawaz Ave</td>\n",
       "    </tr>\n",
       "    <tr>\n",
       "      <th>1628</th>\n",
       "      <td>Dhaka Spicy</td>\n",
       "      <td>Uttara</td>\n",
       "      <td>Restaurant</td>\n",
       "      <td>3.0</td>\n",
       "      <td>1</td>\n",
       "      <td>1</td>\n",
       "      <td>23 Rd No 2</td>\n",
       "    </tr>\n",
       "    <tr>\n",
       "      <th>1629</th>\n",
       "      <td>Pizza Hut</td>\n",
       "      <td>Uttara</td>\n",
       "      <td>Pizza</td>\n",
       "      <td>4.2</td>\n",
       "      <td>73</td>\n",
       "      <td>2</td>\n",
       "      <td>House 06, Road 2, Ahmed Plaza (Gr. Flr</td>\n",
       "    </tr>\n",
       "    <tr>\n",
       "      <th>1630</th>\n",
       "      <td>Uttara Kitchen</td>\n",
       "      <td>Uttara</td>\n",
       "      <td>Fast Food</td>\n",
       "      <td>5.0</td>\n",
       "      <td>1</td>\n",
       "      <td>1</td>\n",
       "      <td>House- 2, Road No 12, Sector- 6, Uttara</td>\n",
       "    </tr>\n",
       "  </tbody>\n",
       "</table>\n",
       "<p>1631 rows × 7 columns</p>\n",
       "</div>"
      ],
      "text/plain": [
       "                             Restaurant Name    Area Restaurant type  Ratings  \\\n",
       "0                        Cricket Ground Cafe   Badda      Restaurant      4.1   \n",
       "1                        Rosemery Restaurant   Badda     Bangladeshi      3.9   \n",
       "2              Maaer Dowa Hotel & Restaurant   Badda      Restaurant      4.4   \n",
       "3     K & K Burger and coffee ( Burger wala)   Badda      Restaurant      4.8   \n",
       "4                         Sanxi Thai Chinese   Badda         Chinese      3.9   \n",
       "...                                      ...     ...             ...      ...   \n",
       "1626                     Old Town Restaurant  Uttara      Restaurant      4.0   \n",
       "1627              Golden Spoon 3 (Sector-13)  Uttara      Restaurant      4.1   \n",
       "1628                             Dhaka Spicy  Uttara      Restaurant      3.0   \n",
       "1629                               Pizza Hut  Uttara           Pizza      4.2   \n",
       "1630                          Uttara Kitchen  Uttara       Fast Food      5.0   \n",
       "\n",
       "      Number of ratings  price                                  Address  \n",
       "0                   169      1  171/3 Middle Badda, হাতির ঝিল লিঙ্ক রোড  \n",
       "1                   369      1                               Madani Ave  \n",
       "2                     8      1          East Badda, Borotek More, Badda  \n",
       "3                    32      1                            40 S Badda Rd  \n",
       "4                  1102      2                House#1/B, Road#13, South  \n",
       "...                 ...    ...                                      ...  \n",
       "1626                  4      1                        House 03 Rd No 14  \n",
       "1627                 22      1               Plot-60 Gareeb-e-Nawaz Ave  \n",
       "1628                  1      1                               23 Rd No 2  \n",
       "1629                 73      2   House 06, Road 2, Ahmed Plaza (Gr. Flr  \n",
       "1630                  1      1  House- 2, Road No 12, Sector- 6, Uttara  \n",
       "\n",
       "[1631 rows x 7 columns]"
      ]
     },
     "execution_count": 30,
     "metadata": {},
     "output_type": "execute_result"
    }
   ],
   "source": [
    "data"
   ]
  },
  {
   "cell_type": "code",
   "execution_count": 31,
   "metadata": {},
   "outputs": [],
   "source": [
    "data.to_csv('updatedDatafinal.csv', index=False)"
   ]
  },
  {
   "cell_type": "code",
   "execution_count": 32,
   "metadata": {},
   "outputs": [],
   "source": [
    "cousine = Cousine_type.to_dict()"
   ]
  },
  {
   "cell_type": "code",
   "execution_count": 33,
   "metadata": {},
   "outputs": [
    {
     "data": {
      "text/plain": [
       "{'American': 6,\n",
       " 'Asian': 10,\n",
       " 'Asian Fusion': 1,\n",
       " 'AsianFusion': 2,\n",
       " 'Bakery': 12,\n",
       " 'Bangladeshi': 115,\n",
       " 'Banquethall': 1,\n",
       " 'Bar': 4,\n",
       " 'Barbecue': 4,\n",
       " 'Biryani': 19,\n",
       " 'Bistro': 1,\n",
       " 'Breakfast': 2,\n",
       " 'Buffet': 15,\n",
       " 'Cafe': 34,\n",
       " 'Cantonese': 4,\n",
       " 'Caterer': 1,\n",
       " 'Chicken': 8,\n",
       " 'Chicken Wings': 1,\n",
       " 'ChickenWings': 1,\n",
       " 'Chinese': 55,\n",
       " 'Chocolate shop': 1,\n",
       " 'Continental restaurant': 8,\n",
       " 'Countryfoodrestaurant': 2,\n",
       " 'Deliveryservice': 1,\n",
       " 'Dessert shop': 1,\n",
       " 'Family-friendly': 7,\n",
       " 'Fast Food': 169,\n",
       " 'FineDining': 2,\n",
       " 'Food court': 9,\n",
       " 'Grill': 1,\n",
       " 'Hamburger': 3,\n",
       " 'Hotel': 21,\n",
       " 'Ice Cream': 2,\n",
       " 'Indian': 26,\n",
       " 'Indian sweets shop': 1,\n",
       " 'Italian': 6,\n",
       " 'Japanese': 14,\n",
       " 'Kebab shop': 5,\n",
       " 'Korean': 6,\n",
       " 'Lebanese': 3,\n",
       " 'Malaysian': 2,\n",
       " 'Mexican': 6,\n",
       " 'Middle Eastern': 2,\n",
       " 'Mongolian BBQ': 1,\n",
       " 'Nepalese': 1,\n",
       " 'Pan Asian': 1,\n",
       " 'Pizza': 40,\n",
       " 'Portuguese': 1,\n",
       " 'Restaurant': 954,\n",
       " 'Sea-food': 9,\n",
       " 'SouthIndian': 1,\n",
       " 'Steak': 3,\n",
       " 'Sushi': 2,\n",
       " 'Tacos': 1,\n",
       " 'Tea house': 1,\n",
       " 'Thai': 14,\n",
       " 'Turkish': 4,\n",
       " 'Vegetarian': 2,\n",
       " 'Western': 2}"
      ]
     },
     "execution_count": 33,
     "metadata": {},
     "output_type": "execute_result"
    }
   ],
   "source": [
    "cousine"
   ]
  },
  {
   "cell_type": "code",
   "execution_count": 34,
   "metadata": {},
   "outputs": [],
   "source": [
    "X = cousine.keys()\n",
    "Y = cousine.values()"
   ]
  },
  {
   "cell_type": "code",
   "execution_count": 35,
   "metadata": {},
   "outputs": [
    {
     "data": {
      "text/plain": [
       "dict_keys(['American', 'Asian', 'Asian Fusion', 'AsianFusion', 'Bakery', 'Bangladeshi', 'Banquethall', 'Bar', 'Barbecue', 'Biryani', 'Bistro', 'Breakfast', 'Buffet', 'Cafe', 'Cantonese', 'Caterer', 'Chicken', 'Chicken Wings', 'ChickenWings', 'Chinese', 'Chocolate shop', 'Continental restaurant', 'Countryfoodrestaurant', 'Deliveryservice', 'Dessert shop', 'Family-friendly', 'Fast Food', 'FineDining', 'Food court', 'Grill', 'Hamburger', 'Hotel', 'Ice Cream', 'Indian', 'Indian sweets shop', 'Italian', 'Japanese', 'Kebab shop', 'Korean', 'Lebanese', 'Malaysian', 'Mexican', 'Middle Eastern', 'Mongolian BBQ', 'Nepalese', 'Pan Asian', 'Pizza', 'Portuguese', 'Restaurant', 'Sea-food', 'SouthIndian', 'Steak', 'Sushi', 'Tacos', 'Tea house', 'Thai', 'Turkish', 'Vegetarian', 'Western'])"
      ]
     },
     "execution_count": 35,
     "metadata": {},
     "output_type": "execute_result"
    }
   ],
   "source": [
    "X"
   ]
  },
  {
   "cell_type": "code",
   "execution_count": 36,
   "metadata": {},
   "outputs": [
    {
     "data": {
      "text/plain": [
       "dict_values([6, 10, 1, 2, 12, 115, 1, 4, 4, 19, 1, 2, 15, 34, 4, 1, 8, 1, 1, 55, 1, 8, 2, 1, 1, 7, 169, 2, 9, 1, 3, 21, 2, 26, 1, 6, 14, 5, 6, 3, 2, 6, 2, 1, 1, 1, 40, 1, 954, 9, 1, 3, 2, 1, 1, 14, 4, 2, 2])"
      ]
     },
     "execution_count": 36,
     "metadata": {},
     "output_type": "execute_result"
    }
   ],
   "source": [
    "Y"
   ]
  },
  {
   "cell_type": "code",
   "execution_count": 37,
   "metadata": {},
   "outputs": [
    {
     "data": {
      "text/plain": [
       "<BarContainer object of 59 artists>"
      ]
     },
     "execution_count": 37,
     "metadata": {},
     "output_type": "execute_result"
    },
    {
     "data": {
      "image/png": "[encoded data removed]",
      "text/plain": [
       "<Figure size 1440x504 with 1 Axes>"
      ]
     },
     "metadata": {
      "needs_background": "light"
     },
     "output_type": "display_data"
    }
   ],
   "source": [
    "plt.figure(figsize=(20,7))\n",
    "plt.xticks(rotation=90)\n",
    "plt.bar(X,Y)\n"
   ]
  },
  {
   "cell_type": "code",
   "execution_count": 39,
   "metadata": {},
   "outputs": [],
   "source": [
    "X = dictionary.keys()\n",
    "Y = dictionary.values()"
   ]
  },
  {
   "cell_type": "code",
   "execution_count": 44,
   "metadata": {},
   "outputs": [
    {
     "data": {
      "text/plain": [
       "<BarContainer object of 24 artists>"
      ]
     },
     "execution_count": 44,
     "metadata": {},
     "output_type": "execute_result"
    },
    {
     "data": {
      "image/png": "[encoded data removed]",
      "text/plain": [
       "<Figure size 1440x504 with 1 Axes>"
      ]
     },
     "metadata": {
      "needs_background": "light"
     },
     "output_type": "display_data"
    }
   ],
   "source": [
    "plt.figure(figsize=(20,7))\n",
    "plt.xticks(rotation=90)\n",
    "plt.bar(X,Y, color='maroon')\n"
   ]
  },
  {
   "cell_type": "code",
   "execution_count": null,
   "metadata": {},
   "outputs": [],
   "source": []
  }
 ],
 "metadata": {
  "kernelspec": {
   "display_name": "Python 3",
   "language": "python",
   "name": "python3"
  },
  "language_info": {
   "codemirror_mode": {
    "name": "ipython",
    "version": 3
   },
   "file_extension": ".py",
   "mimetype": "text/x-python",
   "name": "python",
   "nbconvert_exporter": "python",
   "pygments_lexer": "ipython3",
   "version": "3.8.3"
  }
 },
 "nbformat": 4,
 "nbformat_minor": 4
}
